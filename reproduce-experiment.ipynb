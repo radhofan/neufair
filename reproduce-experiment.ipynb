{
 "cells": [
  {
   "cell_type": "markdown",
   "metadata": {},
   "source": [
    "# FairQuant Artifact\n",
    "Artifact of the paper \"FairQuant: Certifying and Quantifying Fairness of Deep Neural Networks\" from ICSE 2025.\n",
    "\n",
    "To access ChameleonCloud resources, you may need the account to log in to ChameleonCloud. You also need to have a project to allocate resources (e.g., node)."
   ]
  },
  {
   "cell_type": "code",
   "execution_count": null,
   "metadata": {
    "tags": []
   },
   "outputs": [],
   "source": [
    "from chi import context\n",
    "\n",
    "context.version = \"1.0\"\n",
    "\n",
    "context.choose_site(default=\"CHI@TACC\")\n",
    "context.choose_project()"
   ]
  },
  {
   "cell_type": "markdown",
   "metadata": {},
   "source": [
    "### Check available hardware"
   ]
  },
  {
   "cell_type": "code",
   "execution_count": null,
   "metadata": {
    "tags": []
   },
   "outputs": [],
   "source": [
    "from chi import hardware\n",
    "\n",
    "node_type = \"compute_cascadelake_r\"\n",
    "available_nodes = hardware.get_nodes(node_type=node_type, filter_reserved=True)\n",
    "if available_nodes:\n",
    "    print(f\"There currently are {len(available_nodes)} {node_type} nodes ready to use\")\n",
    "else:\n",
    "    print(f\"All {node_type} nodes are in use! You could use next_free_timeslot to see how long you need to wait, or use the calendar.\")"
   ]
  },
  {
   "cell_type": "markdown",
   "metadata": {},
   "source": [
    "### Reserve node"
   ]
  },
  {
   "cell_type": "code",
   "execution_count": null,
   "metadata": {
    "tags": []
   },
   "outputs": [],
   "source": [
    "from chi import lease\n",
    "from datetime import timedelta\n",
    "import os\n",
    "\n",
    "my_lease = lease.Lease(f\"{os.getenv('USER')}-power-management\", duration=timedelta(hours=3))\n",
    "my_lease.add_node_reservation(nodes=[available_nodes[0]]) # or you could use node_type=node_type\n",
    "my_lease.add_fip_reservation(1) # include a floating ip\n",
    "my_lease.submit(idempotent=True)"
   ]
  },
  {
   "cell_type": "markdown",
   "metadata": {},
   "source": [
    "### Create a server on the node"
   ]
  },
  {
   "cell_type": "code",
   "execution_count": null,
   "metadata": {
    "tags": []
   },
   "outputs": [],
   "source": [
    "from chi import server\n",
    "\n",
    "my_server = server.Server(\n",
    "    f\"{os.getenv('USER')}-power-management\",\n",
    "    reservation_id=my_lease.node_reservations[0][\"id\"],\n",
    "    image_name=\"CC-Ubuntu22.04\", # or use image_name\n",
    ")\n",
    "my_server.submit(idempotent=True)"
   ]
  },
  {
   "cell_type": "markdown",
   "metadata": {},
   "source": [
    "### Configure networking on the node"
   ]
  },
  {
   "cell_type": "code",
   "execution_count": null,
   "metadata": {
    "tags": []
   },
   "outputs": [],
   "source": [
    "fip = my_lease.get_reserved_floating_ips()[0]\n",
    "my_server.associate_floating_ip(fip)\n",
    "my_server.check_connectivity(host=fip)"
   ]
  },
  {
   "cell_type": "markdown",
   "metadata": {},
   "source": [
    "## Run FairQuant\n",
    "\n",
    "Now, we can finally run FairQuant. First we need to clone the github repo first and then run the reprduce.sh script which contain the instructions from README.md\n",
    "packaged into a bash file"
   ]
  },
  {
   "cell_type": "code",
   "execution_count": null,
   "metadata": {
    "tags": []
   },
   "outputs": [],
   "source": [
    "my_server.execute(\"rm -rf FairQuant-Artifact && git clone https://github.com/radhofan/FairQuant-Artifact.git\")"
   ]
  },
  {
   "cell_type": "markdown",
   "metadata": {},
   "source": [
    "### Run dependencies and first experiment"
   ]
  },
  {
   "cell_type": "code",
   "execution_count": null,
   "metadata": {
    "tags": []
   },
   "outputs": [],
   "source": [
    "my_server.execute(\"chmod +x FairQuant-Artifact/experiment.sh\")\n",
    "my_server.execute(\"bash FairQuant-Artifact/experiment.sh\")"
   ]
  },
  {
   "cell_type": "code",
   "execution_count": null,
   "metadata": {
    "tags": []
   },
   "outputs": [],
   "source": [
    "from chi import storage\n",
    "\n",
    "bucket_name = \"bare_metal_experiment_pattern_data\"\n",
    "b = storage.ObjectBucket(bucket_name)\n",
    "\n",
    "print(f\"Listing objects in bucket '{bucket_name}'...\")\n",
    "for obj in b.list_objects():\n",
    "    print(f\"Downloading {obj.name}\")\n",
    "    obj.download(obj.name) "
   ]
  },
  {
   "cell_type": "code",
   "execution_count": null,
   "metadata": {},
   "outputs": [],
   "source": []
  }
 ],
 "metadata": {
  "kernelspec": {
   "display_name": "Python 3 (ipykernel)",
   "language": "python",
   "name": "python3"
  },
  "language_info": {
   "codemirror_mode": {
    "name": "ipython",
    "version": 3
   },
   "file_extension": ".py",
   "mimetype": "text/x-python",
   "name": "python",
   "nbconvert_exporter": "python",
   "pygments_lexer": "ipython3",
   "version": "3.12.10"
  }
 },
 "nbformat": 4,
 "nbformat_minor": 4
}
